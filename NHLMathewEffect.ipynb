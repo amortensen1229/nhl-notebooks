{
  "nbformat": 4,
  "nbformat_minor": 0,
  "metadata": {
    "colab": {
      "provenance": [],
      "collapsed_sections": [
        "go2NvyYz-kHI"
      ]
    },
    "kernelspec": {
      "name": "python3",
      "display_name": "Python 3"
    },
    "language_info": {
      "name": "python"
    }
  },
  "cells": [
    {
      "cell_type": "markdown",
      "source": [
        "# <center> NHL: Selection Bias and The Matthews Effect </center>\n",
        "#### Adam Mortensen\n",
        "#### Nov 5th, 2022\n",
        "\n",
        "---"
      ],
      "metadata": {
        "id": "-5SNwJZKBplg"
      }
    },
    {
      "cell_type": "code",
      "execution_count": 118,
      "metadata": {
        "id": "tQba85UKniag"
      },
      "outputs": [],
      "source": [
        "# Imports\n",
        "import pandas as pd\n",
        "import numpy as np\n",
        "from matplotlib import pyplot as plt\n",
        "from scipy import odr\n",
        "import math"
      ]
    },
    {
      "cell_type": "code",
      "source": [
        "## Make Plots displace a little nicer\n",
        "\n",
        "from IPython.display import HTML\n",
        "\n",
        "HTML('''<script>\n",
        "code_show=true; \n",
        "function code_toggle() {\n",
        " if (code_show){\n",
        " $('div.input').hide();\n",
        " } else {\n",
        " $('div.input').show();\n",
        " }\n",
        " code_show = !code_show\n",
        "} \n",
        "$( document ).ready(code_toggle);\n",
        "</script>\n",
        "The raw code for this IPython notebook is by default hidden for easier reading.\n",
        "To toggle on/off the raw code, click <a href=\"javascript:code_toggle()\">here</a>.''')"
      ],
      "metadata": {
        "colab": {
          "base_uri": "https://localhost:8080/",
          "height": 34
        },
        "id": "XFnrnvwII6mG",
        "outputId": "384513e4-bd62-4be6-b2f5-a91b66441179"
      },
      "execution_count": 123,
      "outputs": [
        {
          "output_type": "execute_result",
          "data": {
            "text/plain": [
              "<IPython.core.display.HTML object>"
            ],
            "text/html": [
              "<script>\n",
              "code_show=true; \n",
              "function code_toggle() {\n",
              " if (code_show){\n",
              " $('div.input').hide();\n",
              " } else {\n",
              " $('div.input').show();\n",
              " }\n",
              " code_show = !code_show\n",
              "} \n",
              "$( document ).ready(code_toggle);\n",
              "</script>\n",
              "The raw code for this IPython notebook is by default hidden for easier reading.\n",
              "To toggle on/off the raw code, click <a href=\"javascript:code_toggle()\">here</a>."
            ]
          },
          "metadata": {},
          "execution_count": 123
        }
      ]
    },
    {
      "cell_type": "code",
      "source": [
        "df_hockey = pd.read_csv('Master.csv')\n",
        "df_hockey.describe()"
      ],
      "metadata": {
        "colab": {
          "base_uri": "https://localhost:8080/",
          "height": 341
        },
        "id": "1sC11SoAnx5K",
        "outputId": "ff527d93-fe70-4fff-a1e1-c6df93be81f0"
      },
      "execution_count": 124,
      "outputs": [
        {
          "output_type": "execute_result",
          "data": {
            "text/plain": [
              "            height       weight         ihdbID     firstNHL      lastNHL  \\\n",
              "count  7334.000000  7336.000000    7125.000000  6851.000000  6851.000000   \n",
              "mean     71.904418   189.503953   18159.395930  1979.898555  1985.173551   \n",
              "std       2.328650    18.341611   22852.778006    24.150092    24.359206   \n",
              "min      63.000000   125.000000      45.000000  1917.000000  1917.000000   \n",
              "25%      70.000000   178.000000    3339.000000  1968.000000  1974.000000   \n",
              "50%      72.000000   190.000000    7500.000000  1985.000000  1991.000000   \n",
              "75%      73.000000   200.000000   23463.000000  1999.000000  2006.000000   \n",
              "max      81.000000   265.000000  118280.000000  2011.000000  2011.000000   \n",
              "\n",
              "          firstWHA      lastWHA    birthYear     birthMon     birthDay  \\\n",
              "count   903.000000   903.000000  7543.000000  7506.000000  7504.000000   \n",
              "mean   1974.256921  1975.746401  1955.170091     6.056088    15.605144   \n",
              "std       2.123774     1.947460    26.379075     3.434267     8.917103   \n",
              "min    1972.000000  1972.000000  1841.000000     1.000000     1.000000   \n",
              "25%    1972.000000  1974.000000  1943.000000     3.000000     8.000000   \n",
              "50%    1974.000000  1976.000000  1961.000000     6.000000    15.000000   \n",
              "75%    1976.000000  1978.000000  1975.000000     9.000000    23.000000   \n",
              "max    1978.000000  1978.000000  1993.000000    12.000000    31.000000   \n",
              "\n",
              "         deathYear     deathMon     deathDay  \n",
              "count  1320.000000  1173.000000  1168.000000  \n",
              "mean   2547.587121     6.670929    15.244863  \n",
              "std    2052.311223     3.484605     8.601029  \n",
              "min    1907.000000     1.000000     1.000000  \n",
              "25%    1970.000000     4.000000     8.000000  \n",
              "50%    1989.000000     7.000000    15.000000  \n",
              "75%    2002.000000    10.000000    23.000000  \n",
              "max    9999.000000    12.000000    31.000000  "
            ],
            "text/html": [
              "\n",
              "  <div id=\"df-a4f3d01b-c7bc-43d9-b81e-7a8ebe49eff0\">\n",
              "    <div class=\"colab-df-container\">\n",
              "      <div>\n",
              "<style scoped>\n",
              "    .dataframe tbody tr th:only-of-type {\n",
              "        vertical-align: middle;\n",
              "    }\n",
              "\n",
              "    .dataframe tbody tr th {\n",
              "        vertical-align: top;\n",
              "    }\n",
              "\n",
              "    .dataframe thead th {\n",
              "        text-align: right;\n",
              "    }\n",
              "</style>\n",
              "<table border=\"1\" class=\"dataframe\">\n",
              "  <thead>\n",
              "    <tr style=\"text-align: right;\">\n",
              "      <th></th>\n",
              "      <th>height</th>\n",
              "      <th>weight</th>\n",
              "      <th>ihdbID</th>\n",
              "      <th>firstNHL</th>\n",
              "      <th>lastNHL</th>\n",
              "      <th>firstWHA</th>\n",
              "      <th>lastWHA</th>\n",
              "      <th>birthYear</th>\n",
              "      <th>birthMon</th>\n",
              "      <th>birthDay</th>\n",
              "      <th>deathYear</th>\n",
              "      <th>deathMon</th>\n",
              "      <th>deathDay</th>\n",
              "    </tr>\n",
              "  </thead>\n",
              "  <tbody>\n",
              "    <tr>\n",
              "      <th>count</th>\n",
              "      <td>7334.000000</td>\n",
              "      <td>7336.000000</td>\n",
              "      <td>7125.000000</td>\n",
              "      <td>6851.000000</td>\n",
              "      <td>6851.000000</td>\n",
              "      <td>903.000000</td>\n",
              "      <td>903.000000</td>\n",
              "      <td>7543.000000</td>\n",
              "      <td>7506.000000</td>\n",
              "      <td>7504.000000</td>\n",
              "      <td>1320.000000</td>\n",
              "      <td>1173.000000</td>\n",
              "      <td>1168.000000</td>\n",
              "    </tr>\n",
              "    <tr>\n",
              "      <th>mean</th>\n",
              "      <td>71.904418</td>\n",
              "      <td>189.503953</td>\n",
              "      <td>18159.395930</td>\n",
              "      <td>1979.898555</td>\n",
              "      <td>1985.173551</td>\n",
              "      <td>1974.256921</td>\n",
              "      <td>1975.746401</td>\n",
              "      <td>1955.170091</td>\n",
              "      <td>6.056088</td>\n",
              "      <td>15.605144</td>\n",
              "      <td>2547.587121</td>\n",
              "      <td>6.670929</td>\n",
              "      <td>15.244863</td>\n",
              "    </tr>\n",
              "    <tr>\n",
              "      <th>std</th>\n",
              "      <td>2.328650</td>\n",
              "      <td>18.341611</td>\n",
              "      <td>22852.778006</td>\n",
              "      <td>24.150092</td>\n",
              "      <td>24.359206</td>\n",
              "      <td>2.123774</td>\n",
              "      <td>1.947460</td>\n",
              "      <td>26.379075</td>\n",
              "      <td>3.434267</td>\n",
              "      <td>8.917103</td>\n",
              "      <td>2052.311223</td>\n",
              "      <td>3.484605</td>\n",
              "      <td>8.601029</td>\n",
              "    </tr>\n",
              "    <tr>\n",
              "      <th>min</th>\n",
              "      <td>63.000000</td>\n",
              "      <td>125.000000</td>\n",
              "      <td>45.000000</td>\n",
              "      <td>1917.000000</td>\n",
              "      <td>1917.000000</td>\n",
              "      <td>1972.000000</td>\n",
              "      <td>1972.000000</td>\n",
              "      <td>1841.000000</td>\n",
              "      <td>1.000000</td>\n",
              "      <td>1.000000</td>\n",
              "      <td>1907.000000</td>\n",
              "      <td>1.000000</td>\n",
              "      <td>1.000000</td>\n",
              "    </tr>\n",
              "    <tr>\n",
              "      <th>25%</th>\n",
              "      <td>70.000000</td>\n",
              "      <td>178.000000</td>\n",
              "      <td>3339.000000</td>\n",
              "      <td>1968.000000</td>\n",
              "      <td>1974.000000</td>\n",
              "      <td>1972.000000</td>\n",
              "      <td>1974.000000</td>\n",
              "      <td>1943.000000</td>\n",
              "      <td>3.000000</td>\n",
              "      <td>8.000000</td>\n",
              "      <td>1970.000000</td>\n",
              "      <td>4.000000</td>\n",
              "      <td>8.000000</td>\n",
              "    </tr>\n",
              "    <tr>\n",
              "      <th>50%</th>\n",
              "      <td>72.000000</td>\n",
              "      <td>190.000000</td>\n",
              "      <td>7500.000000</td>\n",
              "      <td>1985.000000</td>\n",
              "      <td>1991.000000</td>\n",
              "      <td>1974.000000</td>\n",
              "      <td>1976.000000</td>\n",
              "      <td>1961.000000</td>\n",
              "      <td>6.000000</td>\n",
              "      <td>15.000000</td>\n",
              "      <td>1989.000000</td>\n",
              "      <td>7.000000</td>\n",
              "      <td>15.000000</td>\n",
              "    </tr>\n",
              "    <tr>\n",
              "      <th>75%</th>\n",
              "      <td>73.000000</td>\n",
              "      <td>200.000000</td>\n",
              "      <td>23463.000000</td>\n",
              "      <td>1999.000000</td>\n",
              "      <td>2006.000000</td>\n",
              "      <td>1976.000000</td>\n",
              "      <td>1978.000000</td>\n",
              "      <td>1975.000000</td>\n",
              "      <td>9.000000</td>\n",
              "      <td>23.000000</td>\n",
              "      <td>2002.000000</td>\n",
              "      <td>10.000000</td>\n",
              "      <td>23.000000</td>\n",
              "    </tr>\n",
              "    <tr>\n",
              "      <th>max</th>\n",
              "      <td>81.000000</td>\n",
              "      <td>265.000000</td>\n",
              "      <td>118280.000000</td>\n",
              "      <td>2011.000000</td>\n",
              "      <td>2011.000000</td>\n",
              "      <td>1978.000000</td>\n",
              "      <td>1978.000000</td>\n",
              "      <td>1993.000000</td>\n",
              "      <td>12.000000</td>\n",
              "      <td>31.000000</td>\n",
              "      <td>9999.000000</td>\n",
              "      <td>12.000000</td>\n",
              "      <td>31.000000</td>\n",
              "    </tr>\n",
              "  </tbody>\n",
              "</table>\n",
              "</div>\n",
              "      <button class=\"colab-df-convert\" onclick=\"convertToInteractive('df-a4f3d01b-c7bc-43d9-b81e-7a8ebe49eff0')\"\n",
              "              title=\"Convert this dataframe to an interactive table.\"\n",
              "              style=\"display:none;\">\n",
              "        \n",
              "  <svg xmlns=\"http://www.w3.org/2000/svg\" height=\"24px\"viewBox=\"0 0 24 24\"\n",
              "       width=\"24px\">\n",
              "    <path d=\"M0 0h24v24H0V0z\" fill=\"none\"/>\n",
              "    <path d=\"M18.56 5.44l.94 2.06.94-2.06 2.06-.94-2.06-.94-.94-2.06-.94 2.06-2.06.94zm-11 1L8.5 8.5l.94-2.06 2.06-.94-2.06-.94L8.5 2.5l-.94 2.06-2.06.94zm10 10l.94 2.06.94-2.06 2.06-.94-2.06-.94-.94-2.06-.94 2.06-2.06.94z\"/><path d=\"M17.41 7.96l-1.37-1.37c-.4-.4-.92-.59-1.43-.59-.52 0-1.04.2-1.43.59L10.3 9.45l-7.72 7.72c-.78.78-.78 2.05 0 2.83L4 21.41c.39.39.9.59 1.41.59.51 0 1.02-.2 1.41-.59l7.78-7.78 2.81-2.81c.8-.78.8-2.07 0-2.86zM5.41 20L4 18.59l7.72-7.72 1.47 1.35L5.41 20z\"/>\n",
              "  </svg>\n",
              "      </button>\n",
              "      \n",
              "  <style>\n",
              "    .colab-df-container {\n",
              "      display:flex;\n",
              "      flex-wrap:wrap;\n",
              "      gap: 12px;\n",
              "    }\n",
              "\n",
              "    .colab-df-convert {\n",
              "      background-color: #E8F0FE;\n",
              "      border: none;\n",
              "      border-radius: 50%;\n",
              "      cursor: pointer;\n",
              "      display: none;\n",
              "      fill: #1967D2;\n",
              "      height: 32px;\n",
              "      padding: 0 0 0 0;\n",
              "      width: 32px;\n",
              "    }\n",
              "\n",
              "    .colab-df-convert:hover {\n",
              "      background-color: #E2EBFA;\n",
              "      box-shadow: 0px 1px 2px rgba(60, 64, 67, 0.3), 0px 1px 3px 1px rgba(60, 64, 67, 0.15);\n",
              "      fill: #174EA6;\n",
              "    }\n",
              "\n",
              "    [theme=dark] .colab-df-convert {\n",
              "      background-color: #3B4455;\n",
              "      fill: #D2E3FC;\n",
              "    }\n",
              "\n",
              "    [theme=dark] .colab-df-convert:hover {\n",
              "      background-color: #434B5C;\n",
              "      box-shadow: 0px 1px 3px 1px rgba(0, 0, 0, 0.15);\n",
              "      filter: drop-shadow(0px 1px 2px rgba(0, 0, 0, 0.3));\n",
              "      fill: #FFFFFF;\n",
              "    }\n",
              "  </style>\n",
              "\n",
              "      <script>\n",
              "        const buttonEl =\n",
              "          document.querySelector('#df-a4f3d01b-c7bc-43d9-b81e-7a8ebe49eff0 button.colab-df-convert');\n",
              "        buttonEl.style.display =\n",
              "          google.colab.kernel.accessAllowed ? 'block' : 'none';\n",
              "\n",
              "        async function convertToInteractive(key) {\n",
              "          const element = document.querySelector('#df-a4f3d01b-c7bc-43d9-b81e-7a8ebe49eff0');\n",
              "          const dataTable =\n",
              "            await google.colab.kernel.invokeFunction('convertToInteractive',\n",
              "                                                     [key], {});\n",
              "          if (!dataTable) return;\n",
              "\n",
              "          const docLinkHtml = 'Like what you see? Visit the ' +\n",
              "            '<a target=\"_blank\" href=https://colab.research.google.com/notebooks/data_table.ipynb>data table notebook</a>'\n",
              "            + ' to learn more about interactive tables.';\n",
              "          element.innerHTML = '';\n",
              "          dataTable['output_type'] = 'display_data';\n",
              "          await google.colab.output.renderOutput(dataTable, element);\n",
              "          const docLink = document.createElement('div');\n",
              "          docLink.innerHTML = docLinkHtml;\n",
              "          element.appendChild(docLink);\n",
              "        }\n",
              "      </script>\n",
              "    </div>\n",
              "  </div>\n",
              "  "
            ]
          },
          "metadata": {},
          "execution_count": 124
        }
      ]
    },
    {
      "cell_type": "code",
      "source": [
        "month_converter = {\n",
        "    1: 'January', 2: 'February', 3: 'March', 4: 'April', 5: 'May', 6: 'June', 7:'July', 8:'August', 9:'September', 10:'October', 11:'November',\n",
        "    12:'December'\n",
        "}"
      ],
      "metadata": {
        "id": "RQyyGXntJFfh"
      },
      "execution_count": 128,
      "outputs": []
    },
    {
      "cell_type": "code",
      "source": [
        "def count_data(birth_mon, month_to_count_dict):\n",
        "    if (math.isnan(birth_mon)):\n",
        "      return\n",
        "    month_text = month_converter[birth_mon]\n",
        "    if (month_text in month_to_count_dict):\n",
        "      month_to_count_dict[month_text] += 1\n",
        "    else:\n",
        "        month_to_count_dict[month_text] = 1"
      ],
      "metadata": {
        "id": "MRISpMiQ8jtt"
      },
      "execution_count": 135,
      "outputs": []
    },
    {
      "cell_type": "code",
      "source": [
        "birth_months = df_hockey.loc[:, \"birthMon\"]\n",
        "fig1 = plt.figure()\n",
        "axis1 = fig1.add_axes([0, 0, 2, 2])\n",
        "\n",
        "rows = df_hockey.iloc[:]\n",
        "month_to_count = {}\n",
        "for row in df_hockey.iterrows():\n",
        "  birth_mon = row[1][\"birthMon\"];\n",
        "  count_data(birth_mon, month_to_count)\n",
        "\n",
        "axis1.bar(list(month_to_count.keys()), list(month_to_count.values()))\n",
        "\n",
        "axis1.set_title('NHL Players By Birth Month', weight='bold')\n",
        "axis1.set_xlabel('Birth Month',size=16)\n",
        "axis1.set_ylabel('Number of Players $(since 1841)$',size=16)\n",
        "print()"
      ],
      "metadata": {
        "colab": {
          "base_uri": "https://localhost:8080/",
          "height": 676
        },
        "id": "0GzrSxPUuu9S",
        "outputId": "6bf432bf-a762-4bce-8a9c-9a2106141d03"
      },
      "execution_count": 143,
      "outputs": [
        {
          "output_type": "stream",
          "name": "stdout",
          "text": [
            "\n"
          ]
        },
        {
          "output_type": "display_data",
          "data": {
            "text/plain": [
              "<Figure size 432x288 with 1 Axes>"
            ],
            "image/png": "[encoded data removed]"
          },
          "metadata": {
            "needs_background": "light"
          }
        }
      ]
    },
    {
      "cell_type": "code",
      "source": [
        "def count_data_with_num(birth_mon, month_to_count_dict):\n",
        "    if (math.isnan(birth_mon)):\n",
        "      return\n",
        "    if (birth_mon in month_to_count_dict):\n",
        "      month_to_count_dict[birth_mon] += 1\n",
        "    else:\n",
        "        month_to_count_dict[birth_mon] = 1"
      ],
      "metadata": {
        "id": "On7IAfflLwrZ"
      },
      "execution_count": 145,
      "outputs": []
    },
    {
      "cell_type": "code",
      "source": [
        "fig2, axis2 = plt.subplots(1, 2, figsize=(20,10))\n",
        "\n",
        "rows = df_hockey.iloc[:]\n",
        "month_to_count_cn = {}\n",
        "month_to_count_us = {}\n",
        "for row in df_hockey.iterrows():\n",
        "  birth_mon = row[1][\"birthMon\"];\n",
        "  if (row[1][\"birthCountry\"] == \"Canada\"):\n",
        "    count_data_with_num(birth_mon, month_to_count_cn)\n",
        "\n",
        "  elif (row[1][\"birthCountry\"] == \"USA\"):\n",
        "    count_data_with_num(birth_mon, month_to_count_us)\n",
        "\n",
        "#axis2[0].legend(['Output Voltage', 'Capacitor Voltage'], loc='lower right')\n",
        "axis2[0].set_title('NHL Players By Birth Month: Canada', weight='bold')\n",
        "axis2[0].set_xlabel('Birth Month $(1-12)$')\n",
        "axis2[0].set_ylabel('Number of Players $(since 1841)$')\n",
        "\n",
        "axis2[1].set_title('NHL Players By Birth Month: USA', weight='bold')\n",
        "axis2[1].set_xlabel('Birth Month $(1-12)$')\n",
        "axis2[1].set_ylabel('Number of Players $(since 1841)$')\n",
        "\n",
        "\n",
        "# Plot Data:\n",
        "axis2[0].bar(list(month_to_count_cn.keys()), list(month_to_count_cn.values()))\n",
        "axis2[1].bar(list(month_to_count_us.keys()), list(month_to_count_us.values()))\n",
        "axis2[0].scatter(list(month_to_count_cn.keys()), list(month_to_count_cn.values()))\n",
        "axis2[1].scatter(list(month_to_count_us.keys()), list(month_to_count_us.values()))\n",
        "\n",
        "## Data Labeling:\n",
        "axis2[0].legend(['Canada Points','Canada'], loc='upper right')\n",
        "axis2[0].legend(['USA Points','USA'], loc='upper right')\n",
        "\n",
        "print()"
      ],
      "metadata": {
        "colab": {
          "base_uri": "https://localhost:8080/",
          "height": 642
        },
        "id": "IcMAHZvcAQXq",
        "outputId": "3aa85907-1822-4b31-f206-eb499f1892c8"
      },
      "execution_count": 170,
      "outputs": [
        {
          "output_type": "stream",
          "name": "stdout",
          "text": [
            "\n"
          ]
        },
        {
          "output_type": "display_data",
          "data": {
            "text/plain": [
              "<Figure size 1440x720 with 2 Axes>"
            ],
            "image/png": "[encoded data removed]"
          },
          "metadata": {
            "needs_background": "light"
          }
        }
      ]
    },
    {
      "cell_type": "code",
      "source": [
        "def count_players_with_birth_month(birth_month, df):\n",
        "  count = 0\n",
        "  total = 0\n",
        "  for row in df_hockey.iterrows():\n",
        "    if (math.isnan(row[1][\"birthMon\"])):\n",
        "      continue\n",
        "\n",
        "    elif (row[1][\"birthMon\"] == birth_month):\n",
        "      count+=1\n",
        "    total+=1\n",
        "  \n",
        "  return (count, total)"
      ],
      "metadata": {
        "id": "GOpigM-0Mp9h"
      },
      "execution_count": 171,
      "outputs": []
    },
    {
      "cell_type": "code",
      "source": [
        "# Statistic breakdown: NHL Players by Birth Month Since 1841\n",
        "\n",
        "# January:\n",
        "res_1 = count_players_with_birth_month(1, df_hockey)\n",
        "print(res_1)\n",
        "print(res_1[0] / res_1[1] * 100)\n",
        "\n",
        "# December\n",
        "res_2 = count_players_with_birth_month(12, df_hockey)\n",
        "print(res_2)\n",
        "print(res_2[0] / res_2[1] * 100)"
      ],
      "metadata": {
        "colab": {
          "base_uri": "https://localhost:8080/"
        },
        "id": "GzvP99JfBVT4",
        "outputId": "a374cae0-271f-404c-b6db-532113055484"
      },
      "execution_count": 172,
      "outputs": [
        {
          "output_type": "stream",
          "name": "stdout",
          "text": [
            "(775, 7506)\n",
            "10.325073274713564\n",
            "(501, 7506)\n",
            "6.6746602717825745\n"
          ]
        }
      ]
    },
    {
      "cell_type": "markdown",
      "source": [
        "# MLB Example\n",
        "\n",
        "\n"
      ],
      "metadata": {
        "id": "go2NvyYz-kHI"
      }
    },
    {
      "cell_type": "code",
      "source": [
        "birth_months = df_players.loc[:, \"birthMonth\"]\n",
        "fig1 = plt.figure()\n",
        "axis1 = fig1.add_axes([0, 0, 1.5, 1.5])\n",
        "\n",
        "## count number of each month:\n",
        "month_to_count = {}\n",
        "for row in birth_months:\n",
        "  if (row in month_to_count):\n",
        "    month_to_count[row] += 1\n",
        "  else:\n",
        "    if (not math.isnan(row)): #check that data isnt empty\n",
        "      month_to_count[row] = 1\n",
        "\n",
        "axis1.bar(list(month_to_count.keys()), list(month_to_count.values()))"
      ],
      "metadata": {
        "colab": {
          "base_uri": "https://localhost:8080/",
          "height": 497
        },
        "id": "JzMW8n1ho9PQ",
        "outputId": "cc0c7499-7b8f-43b0-e8d8-9082b7589590"
      },
      "execution_count": 30,
      "outputs": [
        {
          "output_type": "execute_result",
          "data": {
            "text/plain": [
              "<BarContainer object of 12 artists>"
            ]
          },
          "metadata": {},
          "execution_count": 30
        },
        {
          "output_type": "display_data",
          "data": {
            "text/plain": [
              "<Figure size 432x288 with 1 Axes>"
            ],
            "image/png": "[encoded data removed]"
          },
          "metadata": {
            "needs_background": "light"
          }
        }
      ]
    }
  ]
}